{
 "cells": [
  {
   "cell_type": "markdown",
   "id": "f4e291e1",
   "metadata": {},
   "source": [
    "<h1 style=\"font-size:3rem;color:rgb(0, 91, 94);text-align:center;\">Topic 4 - Outliers</h1>\n",
    "<hr style=\\\"border-top: 1px solid rgb(0, 91, 94);\\\" />"
   ]
  },
  {
   "cell_type": "markdown",
   "id": "226662aa",
   "metadata": {},
   "source": [
    "<h2 style=\"color:rgb(0, 91, 94)\">Exercise 1</h2>\n",
    "<hr style=\\\"border-top: 1px solid rgb(0, 91, 94);\\\" />"
   ]
  },
  {
   "cell_type": "markdown",
   "id": "0f1eaaee",
   "metadata": {},
   "source": [
    "Create box plots on a single set of axes for all five experiments in the morley data set."
   ]
  },
  {
   "cell_type": "code",
   "execution_count": 39,
   "id": "aa368f3d",
   "metadata": {},
   "outputs": [],
   "source": [
    "import numpy as np\n",
    "\n",
    "# Plotting.\n",
    "import matplotlib.pyplot as plt\n",
    "\n",
    "# Statistics.\n",
    "import scipy.stats as ss"
   ]
  },
  {
   "cell_type": "code",
   "execution_count": 40,
   "id": "180074c7",
   "metadata": {},
   "outputs": [],
   "source": [
    "# Read in the morley data.\n",
    "data = np.genfromtxt('data/morley.csv', skip_header=1, delimiter=',', deletechars='\"')\n",
    "\n",
    "# Remove the first column.\n",
    "data = data[:,1:]"
   ]
  },
  {
   "cell_type": "code",
   "execution_count": 41,
   "id": "8b23ff75",
   "metadata": {},
   "outputs": [],
   "source": [
    "# Select the data for the first experiment.\n",
    "exper_1 = data[:20, 2]\n",
    "\n",
    "# Select the data for the second experiment.\n",
    "exper_2 = data[20:40, 2]\n",
    "\n",
    "# Select the data for the third experiment.\n",
    "exper_3 = data[40:60, 2]\n",
    "\n",
    "# Select the data for the fourth experiment.\n",
    "exper_4 = data[60:80, 2]\n",
    "\n",
    "# Select the data for the fifth experiment.\n",
    "exper_5 = data[80:100, 2]"
   ]
  },
  {
   "cell_type": "code",
   "execution_count": 42,
   "id": "42954adb",
   "metadata": {},
   "outputs": [
    {
     "data": {
      "text/plain": [
       "<matplotlib.legend.Legend at 0x23878f5a310>"
      ]
     },
     "execution_count": 42,
     "metadata": {},
     "output_type": "execute_result"
    },
    {
     "data": {
      "image/png": "[encoded data removed]",
      "text/plain": [
       "<Figure size 432x288 with 1 Axes>"
      ]
     },
     "metadata": {
      "needs_background": "light"
     },
     "output_type": "display_data"
    }
   ],
   "source": [
    "# Create a box plot.\n",
    "plt.boxplot(np.array([exper_1, exper_2, exper_3, exper_4, exper_5]).T);\n",
    "plt.axhline(y = 792.458, color = 'r', linestyle = '-', label = 'true speed')\n",
    "plt.xlabel('Experiment No.')\n",
    "plt.ylabel('Speed of light (km/s minus 299,000)')\n",
    "plt.title(\"Morley Dataset Experiments\")\n",
    "plt.legend()"
   ]
  },
  {
   "cell_type": "markdown",
   "id": "f005773f",
   "metadata": {},
   "source": [
    "<h2 style=\"color:rgb(0, 91, 94)\">Exercise 2</h2>\n",
    "<hr style=\\\"border-top: 1px solid rgb(0, 91, 94);\\\" />"
   ]
  },
  {
   "cell_type": "markdown",
   "id": "d28b7721",
   "metadata": {},
   "source": [
    "Create box plots for all of the numercial variables in Fisher's Iris Data Set."
   ]
  },
  {
   "cell_type": "code",
   "execution_count": 43,
   "id": "0dd78984",
   "metadata": {},
   "outputs": [],
   "source": [
    "# Read in the iris data.\n",
    "data = np.genfromtxt('data/iris.csv', skip_header=1, delimiter=',', deletechars='\"')\n",
    "\n",
    "# Remove the last column.\n",
    "data = data[:,:-1]"
   ]
  },
  {
   "cell_type": "markdown",
   "id": "d98aaa42",
   "metadata": {},
   "source": [
    "## Sepal Length"
   ]
  },
  {
   "cell_type": "code",
   "execution_count": 44,
   "id": "1f002520",
   "metadata": {},
   "outputs": [],
   "source": [
    "# Select the data for the Sepal Length.\n",
    "setosa_sepal_l = data[:50, 0]\n",
    "versicolor_sepal_l = data[50:100, 0]\n",
    "virginica_sepal_l = data[100:150, 0]"
   ]
  },
  {
   "cell_type": "code",
   "execution_count": 45,
   "id": "42c84fc9",
   "metadata": {},
   "outputs": [
    {
     "data": {
      "text/plain": [
       "Text(0.5, 1.0, 'Sepal Length')"
      ]
     },
     "execution_count": 45,
     "metadata": {},
     "output_type": "execute_result"
    },
    {
     "data": {
      "image/png": "[encoded data removed]",
      "text/plain": [
       "<Figure size 432x288 with 1 Axes>"
      ]
     },
     "metadata": {
      "needs_background": "light"
     },
     "output_type": "display_data"
    }
   ],
   "source": [
    "plt.boxplot(np.array([setosa_sepal_l, versicolor_sepal_l, virginica_sepal_l]).T);\n",
    "plt.ylabel('centimeters')\n",
    "plt.xticks([1, 2, 3], ['Setosa', 'Versicolor', 'Virginica'])\n",
    "plt.title(\"Sepal Length\")"
   ]
  },
  {
   "cell_type": "markdown",
   "id": "07ab694b",
   "metadata": {},
   "source": [
    "## Sepal Width"
   ]
  },
  {
   "cell_type": "code",
   "execution_count": 46,
   "id": "8365f0ef",
   "metadata": {},
   "outputs": [],
   "source": [
    "# Select the data for the Sepal Width.\n",
    "setosa_sepal_w = data[:50, 1]\n",
    "versicolor_sepal_w = data[50:100, 1]\n",
    "virginica_sepal_w = data[100:150, 1]"
   ]
  },
  {
   "cell_type": "code",
   "execution_count": 47,
   "id": "d85456d1",
   "metadata": {},
   "outputs": [
    {
     "data": {
      "text/plain": [
       "Text(0.5, 1.0, 'Sepal Width')"
      ]
     },
     "execution_count": 47,
     "metadata": {},
     "output_type": "execute_result"
    },
    {
     "data": {
      "image/png": "[encoded data removed]",
      "text/plain": [
       "<Figure size 432x288 with 1 Axes>"
      ]
     },
     "metadata": {
      "needs_background": "light"
     },
     "output_type": "display_data"
    }
   ],
   "source": [
    "plt.boxplot(np.array([setosa_sepal_w, versicolor_sepal_w, virginica_sepal_w]).T);\n",
    "plt.ylabel('centimeters')\n",
    "plt.xticks([1, 2, 3], ['Setosa', 'Versicolor', 'Virginica'])\n",
    "plt.title(\"Sepal Width\")"
   ]
  },
  {
   "cell_type": "markdown",
   "id": "bb5b46b2",
   "metadata": {},
   "source": [
    "## Petal Length"
   ]
  },
  {
   "cell_type": "code",
   "execution_count": 48,
   "id": "070f5cfa",
   "metadata": {},
   "outputs": [],
   "source": [
    "# Select the data for the Petal Length.\n",
    "setosa_petal_l = data[:50, 2]\n",
    "versicolor_petal_l = data[50:100, 2]\n",
    "virginica_petal_l = data[100:150, 2]"
   ]
  },
  {
   "cell_type": "code",
   "execution_count": 49,
   "id": "e9666aeb",
   "metadata": {},
   "outputs": [
    {
     "data": {
      "text/plain": [
       "Text(0.5, 1.0, 'Petal Length')"
      ]
     },
     "execution_count": 49,
     "metadata": {},
     "output_type": "execute_result"
    },
    {
     "data": {
      "image/png": "[encoded data removed]",
      "text/plain": [
       "<Figure size 432x288 with 1 Axes>"
      ]
     },
     "metadata": {
      "needs_background": "light"
     },
     "output_type": "display_data"
    }
   ],
   "source": [
    "plt.boxplot(np.array([setosa_petal_l, versicolor_petal_l, virginica_petal_l]).T);\n",
    "plt.ylabel('centimeters')\n",
    "plt.xticks([1, 2, 3], ['Setosa', 'Versicolor', 'Virginica'])\n",
    "plt.title(\"Petal Length\")"
   ]
  },
  {
   "cell_type": "markdown",
   "id": "2cf7d706",
   "metadata": {},
   "source": [
    "## Petal Width"
   ]
  },
  {
   "cell_type": "code",
   "execution_count": 50,
   "id": "ddbadf7f",
   "metadata": {},
   "outputs": [],
   "source": [
    "# Select the data for the Petal Width.\n",
    "setosa_petal_w = data[:50, 3]\n",
    "versicolor_petal_w = data[50:100, 3]\n",
    "virginica_petal_w = data[100:150, 3]"
   ]
  },
  {
   "cell_type": "code",
   "execution_count": 51,
   "id": "ea878bab",
   "metadata": {},
   "outputs": [
    {
     "data": {
      "text/plain": [
       "Text(0.5, 1.0, 'Petal Width')"
      ]
     },
     "execution_count": 51,
     "metadata": {},
     "output_type": "execute_result"
    },
    {
     "data": {
      "image/png": "[encoded data removed]",
      "text/plain": [
       "<Figure size 432x288 with 1 Axes>"
      ]
     },
     "metadata": {
      "needs_background": "light"
     },
     "output_type": "display_data"
    }
   ],
   "source": [
    "plt.boxplot(np.array([setosa_petal_w, versicolor_petal_w, virginica_petal_w]).T);\n",
    "plt.ylabel('centimeters')\n",
    "plt.xticks([1, 2, 3], ['Setosa', 'Versicolor', 'Virginica'])\n",
    "plt.title(\"Petal Width\")"
   ]
  },
  {
   "cell_type": "markdown",
   "id": "adebe2ef",
   "metadata": {},
   "source": [
    "<h2 style=\"color:rgb(0, 91, 94)\">Exercise 3</h2>\n",
    "<hr style=\\\"border-top: 1px solid rgb(0, 91, 94);\\\" />"
   ]
  },
  {
   "cell_type": "markdown",
   "id": "9d84b2a9",
   "metadata": {},
   "source": [
    "Adapt the code and plots so that the overall plot is inversely propertional and the individual groups are directly proportional."
   ]
  },
  {
   "cell_type": "code",
   "execution_count": 222,
   "id": "ed1300d6",
   "metadata": {},
   "outputs": [
    {
     "data": {
      "image/png": "[encoded data removed]",
      "text/plain": [
       "<Figure size 432x288 with 1 Axes>"
      ]
     },
     "metadata": {
      "needs_background": "light"
     },
     "output_type": "display_data"
    }
   ],
   "source": [
    "# Create a series of x vectors.\n",
    "xs = np.array([np.linspace(i, i + 2.0, 20) for i in range(10)])\n",
    "\n",
    "# Create a corresponding series of y vectors.\n",
    "ys = np.array([-1.0 * xs[i] + 2 * i for i in range(len(xs))])\n",
    "\n",
    "# Add some noise.\n",
    "ys = ys + np.random.normal(0.0, 1.0, ys.shape)\n",
    "\n",
    "# Same plot but with best fit lines for each category.\n",
    "for i in range(len(xs)):\n",
    "    # Plot this category.\n",
    "    plt.plot(xs[i], ys[i]*-1, '.')\n",
    "    # Fit line to category.\n",
    "    m, c = np.polyfit(xs[i], ys[i], 1)\n",
    "    # Create steadily increasing x range for plot.\n",
    "    xbestfit = np.linspace(xs[i].min(), xs[i].max(), 50)\n",
    "    # Corresponding y values based on best fit line.\n",
    "    ybestfit = m * xbestfit + c\n",
    "    # Plot best fit line for category.\n",
    "    plt.plot(xbestfit, ybestfit*-1, color='lightgrey');"
   ]
  }
 ],
 "metadata": {
  "kernelspec": {
   "display_name": "Python 3 (ipykernel)",
   "language": "python",
   "name": "python3"
  },
  "language_info": {
   "codemirror_mode": {
    "name": "ipython",
    "version": 3
   },
   "file_extension": ".py",
   "mimetype": "text/x-python",
   "name": "python",
   "nbconvert_exporter": "python",
   "pygments_lexer": "ipython3",
   "version": "3.9.7"
  }
 },
 "nbformat": 4,
 "nbformat_minor": 5
}
