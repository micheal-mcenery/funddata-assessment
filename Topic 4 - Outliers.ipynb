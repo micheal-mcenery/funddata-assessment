{
 "cells": [
  {
   "cell_type": "markdown",
   "id": "f4e291e1",
   "metadata": {},
   "source": [
    "<h1 style=\"font-size:3rem;color:rgb(0, 91, 94);text-align:center;\">Topic 4 - Outliers</h1>\n",
    "<hr style=\\\"border-top: 1px solid rgb(0, 91, 94);\\\" />"
   ]
  },
  {
   "cell_type": "markdown",
   "id": "226662aa",
   "metadata": {},
   "source": [
    "<h2 style=\"color:rgb(0, 91, 94)\">Exercise 1</h2>\n",
    "<hr style=\\\"border-top: 1px solid rgb(0, 91, 94);\\\" />"
   ]
  },
  {
   "cell_type": "markdown",
   "id": "0f1eaaee",
   "metadata": {},
   "source": [
    "Create box plots on a single set of axes for all five experiments in the morley data set."
   ]
  },
  {
   "cell_type": "code",
   "execution_count": 3,
   "id": "aa368f3d",
   "metadata": {},
   "outputs": [],
   "source": [
    "import numpy as np\n",
    "\n",
    "# Plotting.\n",
    "import matplotlib.pyplot as plt\n",
    "\n",
    "# Statistics.\n",
    "import scipy.stats as ss"
   ]
  },
  {
   "cell_type": "code",
   "execution_count": 5,
   "id": "180074c7",
   "metadata": {},
   "outputs": [],
   "source": [
    "# Read in the morley data.\n",
    "data = np.genfromtxt('data/morley.csv', skip_header=1, delimiter=',', deletechars='\"')\n",
    "\n",
    "# Remove the first column.\n",
    "data = data[:,1:]"
   ]
  },
  {
   "cell_type": "code",
   "execution_count": 11,
   "id": "8b23ff75",
   "metadata": {},
   "outputs": [],
   "source": [
    "# Select the data for the first experiment.\n",
    "exper_1 = data[:20, 2]\n",
    "\n",
    "# Select the data for the second experiment.\n",
    "exper_2 = data[20:40, 2]\n",
    "\n",
    "# Select the data for the third experiment.\n",
    "exper_3 = data[40:60, 2]\n",
    "\n",
    "# Select the data for the fourth experiment.\n",
    "exper_4 = data[60:80, 2]\n",
    "\n",
    "# Select the data for the fifth experiment.\n",
    "exper_5 = data[80:100, 2]"
   ]
  },
  {
   "cell_type": "code",
   "execution_count": 21,
   "id": "42954adb",
   "metadata": {},
   "outputs": [
    {
     "data": {
      "text/plain": [
       "<matplotlib.legend.Legend at 0x1b6e523f490>"
      ]
     },
     "execution_count": 21,
     "metadata": {},
     "output_type": "execute_result"
    },
    {
     "data": {
      "image/png": "[encoded data removed]",
      "text/plain": [
       "<Figure size 432x288 with 1 Axes>"
      ]
     },
     "metadata": {
      "needs_background": "light"
     },
     "output_type": "display_data"
    }
   ],
   "source": [
    "# Create a box plot.\n",
    "plt.boxplot(np.array([exper_1, exper_2, exper_3, exper_4, exper_5]).T);\n",
    "plt.axhline(y = 792.458, color = 'r', linestyle = '-', label = 'true speed')\n",
    "plt.xlabel('Experiment No.')\n",
    "plt.ylabel('Speed of light (km/s minus 299,000)')\n",
    "plt.legend(bbox_to_anchor = (1.0, 1), loc = 'upper center')"
   ]
  },
  {
   "cell_type": "code",
   "execution_count": null,
   "id": "9859515e",
   "metadata": {},
   "outputs": [],
   "source": []
  }
 ],
 "metadata": {
  "kernelspec": {
   "display_name": "Python 3 (ipykernel)",
   "language": "python",
   "name": "python3"
  },
  "language_info": {
   "codemirror_mode": {
    "name": "ipython",
    "version": 3
   },
   "file_extension": ".py",
   "mimetype": "text/x-python",
   "name": "python",
   "nbconvert_exporter": "python",
   "pygments_lexer": "ipython3",
   "version": "3.9.7"
  }
 },
 "nbformat": 4,
 "nbformat_minor": 5
}
