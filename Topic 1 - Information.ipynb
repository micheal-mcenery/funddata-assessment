{
 "cells": [
  {
   "cell_type": "markdown",
   "id": "2eaaa312",
   "metadata": {},
   "source": [
    "<h1 style=\"font-size:3rem;color:rgb(0, 91, 94);text-align:center;\">Topic 1 - Information</h1>\n",
    "<hr style=\\\"border-top: 1px solid rgb(0, 91, 94);\\\" />"
   ]
  },
  {
   "cell_type": "markdown",
   "id": "8c93348e",
   "metadata": {},
   "source": [
    "<h2 style=\"color:rgb(0, 91, 94)\">Exercise 1</h2>\n",
    "<hr style=\\\"border-top: 1px solid rgb(0, 91, 94);\\\" />"
   ]
  },
  {
   "cell_type": "markdown",
   "id": "af17f2f9",
   "metadata": {},
   "source": [
    "Adapt the code above to generate a 1000 character long string with weights based on the previous two characters.\n",
    "\n"
   ]
  },
  {
   "cell_type": "code",
   "execution_count": 13,
   "id": "aeb8eef5",
   "metadata": {},
   "outputs": [
    {
     "data": {
      "text/plain": [
       "'  unsk baflild ith adnothutoov tre tg twhes t  hcebs cu twourcy anlging hsiantdow lml ta n hleen ltlh  tbrc inteouth yy hatie dafmenga boe nt  btuins tw etse qsanvg thyenaafe sarthh tehoe dnd cainline alei s ya th hs eg isp t atnhemfithhel hlfta latphofthan ownis ls atuha itthhoaus  tamte st ytwosed  t gambi nasleiovug otutrnd tta stheillend ituhee aiasn pp gwoafbe tthe tgh bfei tre  wahle tnher  ttyheagu kmehved iqsinnginsp gavnodevmpe lkyirer tspamtoimn mcotihte kinn tohw sletlhler  stan mmad aantstts opliictoculrkledt  mideist et mmowmhirdots balnseodr vex h awrhe wt nth wworlyanloltyo pk smoutloi hthh tl r iatheave ahlife twarsteeavnodu trhpissuthitn aanicou uonr edl loouvth ssann tsantr was ads fshem st  awbats wbheereea rlupl maar ucoloaupathieaankgiomof aminndd omn iatshaeingheiydondoooure hes odp twengo nth tlha abfl ofd msisdimmanrger  wehceoltoswe cwontitdtel ashm tsoomutaatitneoa ru tiens iateowintrh oheresashaoidf aoruerwnoitchounk asb ft hy thhea slaast haevnththee rbiaat lc'"
      ]
     },
     "execution_count": 13,
     "metadata": {},
     "output_type": "execute_result"
    }
   ],
   "source": [
    "# For doing (pseudo-)random things in Python.\n",
    "import random\n",
    "\n",
    "# Make HTTP requests for internet reqources.\n",
    "import urllib.request\n",
    "\n",
    "# The URL of a text version of Alice in Wonderland.\n",
    "book_url = 'https://www.gutenberg.org/files/11/11-0.txt'\n",
    "\n",
    "# Get the book.\n",
    "book = list(urllib.request.urlopen(book_url))\n",
    "\n",
    "# Decode the lines and strip line endings.\n",
    "book = [line.decode('utf-8-sig').strip() for line in book]\n",
    "\n",
    "# Get a sample paragraph - I looked for this by hand.\n",
    "paragraph = ' '.join(book[58:63])\n",
    "\n",
    "# Let's lower-case it.\n",
    "alice = paragraph.lower()\n",
    "\n",
    "# All letters and a space.\n",
    "chars = 'abcdefghijklmnopqrstuvwxyz '\n",
    "\n",
    "# And strip anything that is not a letter or space.\n",
    "alice = ''.join([c for c in alice if c in chars])\n",
    "\n",
    "# Get the length of alice.\n",
    "N = len(alice)\n",
    "\n",
    "# Generate N random characters from chars.\n",
    "gener = random.choices(chars, k=N)\n",
    "\n",
    "# Join them together in a string.\n",
    "gener = ''.join(gener)\n",
    "\n",
    "# Get the whole book in one big string.\n",
    "sbook = ''.join(book[26:]).lower()\n",
    "\n",
    "# Create the weights - count the occurences of each character in the whole book.\n",
    "weights = [sbook.count(c) for c in chars]\n",
    "\n",
    "# Generate a string using those weights.\n",
    "wgenr = random.choices(chars, weights=weights, k=N)\n",
    "\n",
    "# Join them together in a string.\n",
    "wgenr = ''.join(wgenr)\n",
    "\n",
    "# Create the weights.\n",
    "twoghts = {c: {d: sbook.count(c + d) for d in chars} for c in chars}\n",
    "    \n",
    "# Start with 2 spaces.\n",
    "pairs = '  '\n",
    "\n",
    "# Do the following 1000 times.\n",
    "for i in range(1, 1001):\n",
    "    # Get the weights where the previous character is the last character in twos.\n",
    "    wt = twoghts[pairs[-1]]\n",
    "    # Get the weights where the previous character is the second last character in twos.\n",
    "    wt2 = twoghts[pairs[-2]]\n",
    "    # Turn wt into a list, ordered by chars.\n",
    "    wt = [wt[c] for c in chars]\n",
    "    # Turn wt2 into a list, ordered by chars.\n",
    "    wt2 = [wt2[c] for c in chars]\n",
    "    # Create a new list for the combined weights\n",
    "    wt_combined = []\n",
    "    # Combine each weight with the corresponding weight and add total to new list\n",
    "    for i in range(0, len(wt)):\n",
    "        total = wt[i] + wt2[i]\n",
    "        wt_combined.append(total)\n",
    "            \n",
    "    # Randomly pick the next character using the combined weights of the two previous characters.\n",
    "    nextc = random.choices(chars, weights=wt_combined, k=1)[0]\n",
    "    # Append the character to twos.\n",
    "    pairs = pairs + nextc\n",
    "\n",
    "pairs"
   ]
  },
  {
   "cell_type": "markdown",
   "id": "34926cbe",
   "metadata": {},
   "source": [
    "<h2 style=\"color:rgb(0, 91, 94)\">Exercise 2</h2>\n",
    "<hr style=\\\"border-top: 1px solid rgb(0, 91, 94);\\\" />"
   ]
  },
  {
   "cell_type": "markdown",
   "id": "f82b441e",
   "metadata": {},
   "source": [
    "Explain why the log of zero is undefined."
   ]
  },
  {
   "attachments": {
    "image.png": {
     "image/png": "[encoded data removed]"
    }
   },
   "cell_type": "markdown",
   "id": "5d494f16",
   "metadata": {},
   "source": [
    "log of zero is undefined as there is no way to raise a number to any power and end up with zero (Umn.edu, 2022).\n",
    "\n",
    "Example: \n",
    "\n",
    "![image.png](attachment:image.png)\n",
    "\n",
    "As there is no way in which to raise a number to any power and end up with zero, the base b logorithm of zero is undefined (Quora, 2016).\n",
    "\n",
    "The above example logorithmic function is defined only for log(x) where x > 0 (Rapidtables.com, 2022).\n",
    "\n",
    "\n",
    "\n",
    "References:\n",
    "\n",
    "Umn.edu. (2022). What is a Logarithm? [online] Available at: http://www.mclph.umn.edu/mathrefresh/logs3.html#:~:text=2.-,log%200%20is%20undefined.,infinitely%20large%20and%20negative%20power. [Accessed 1 Nov. 2022]\n",
    "\n",
    "Quora. (2016). What is the proof of log(0) = undefined? [online] Available at: https://www.quora.com/What-is-the-proof-of-log-0-undefined [Accessed 1 Nov. 2022]\n",
    "\n",
    "Rapidtables.com. (2022). Why logarithm of zero, log(0), is not defined? [online] Available at: https://www.rapidtables.com/math/algebra/logarithm/Logarithm_of_0.html [Accessed 1 Nov. 2022]"
   ]
  },
  {
   "cell_type": "markdown",
   "id": "d2735bee",
   "metadata": {},
   "source": [
    "<h1 style=\"font-size:3rem;color:rgb(0, 91, 94);text-align:center;\">Topic 2 - Randomness</h1>\n",
    "<hr style=\\\"border-top: 1px solid rgb(0, 91, 94);\\\" />"
   ]
  },
  {
   "cell_type": "markdown",
   "id": "71252230",
   "metadata": {},
   "source": [
    "<h2 style=\"color:rgb(0, 91, 94)\">Exercise 1</h2>\n",
    "<hr style=\\\"border-top: 1px solid rgb(0, 91, 94);\\\" />"
   ]
  },
  {
   "cell_type": "code",
   "execution_count": null,
   "id": "14c04520",
   "metadata": {},
   "outputs": [],
   "source": []
  }
 ],
 "metadata": {
  "kernelspec": {
   "display_name": "Python 3 (ipykernel)",
   "language": "python",
   "name": "python3"
  },
  "language_info": {
   "codemirror_mode": {
    "name": "ipython",
    "version": 3
   },
   "file_extension": ".py",
   "mimetype": "text/x-python",
   "name": "python",
   "nbconvert_exporter": "python",
   "pygments_lexer": "ipython3",
   "version": "3.9.7"
  }
 },
 "nbformat": 4,
 "nbformat_minor": 5
}
