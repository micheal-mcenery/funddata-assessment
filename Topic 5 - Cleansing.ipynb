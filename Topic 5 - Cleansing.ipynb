{
 "cells": [
  {
   "cell_type": "markdown",
   "id": "bacd1da4",
   "metadata": {},
   "source": [
    "<h1 style=\"font-size:3rem;color:rgb(0, 91, 94);text-align:center;\">Topic 5 - Cleansing</h1>\n",
    "<hr style=\\\"border-top: 1px solid rgb(0, 91, 94);\\\" />"
   ]
  },
  {
   "cell_type": "markdown",
   "id": "971697a0",
   "metadata": {},
   "source": [
    "### Overview\n",
    "Below is a general overview of this topic: \n",
    "\n",
    "The purpose of this topic is to learn about cleansing. Much of this topic focuses on the use of Regular Expressions for cleansing data. \"A regular expression (or RE) specifies a set of strings that matches it; the functions in this module let you check if a particular string matches a given regular expression (or if a given regular expression matches a particular string, which comes down to the same thing)\" (https://docs.python.org/3/library/re.html)."
   ]
  },
  {
   "cell_type": "markdown",
   "id": "c3f63eb5",
   "metadata": {},
   "source": [
    "<h2 style=\"color:rgb(0, 91, 94)\">Exercise 1</h2>\n",
    "<hr style=\\\"border-top: 1px solid rgb(0, 91, 94);\\\" />"
   ]
  },
  {
   "cell_type": "markdown",
   "id": "9befb560",
   "metadata": {},
   "source": [
    "Write a Python function to remove all non-alphanumeric characters from a string."
   ]
  },
  {
   "cell_type": "code",
   "execution_count": 27,
   "id": "48f14c23",
   "metadata": {},
   "outputs": [
    {
     "name": "stdout",
     "output_type": "stream",
     "text": [
      "Thisistheteststringnumber1\n"
     ]
    }
   ],
   "source": [
    "def remove_non_alphanumeric(string):\n",
    "    output = ''\n",
    "    # split the string into substrings using regular expression\n",
    "    result = re.split(r'\\W+', string)\n",
    "    # add the substrings to the output string\n",
    "    for i in result:\n",
    "        output += i\n",
    "    return output\n",
    "\n",
    "\n",
    "string = \"Thi!s i@s th?e te^st., st'ring& numb$$$er 1~}~\"\n",
    "print(remove_non_alphanumeric(string))"
   ]
  },
  {
   "cell_type": "markdown",
   "id": "aa099427",
   "metadata": {},
   "source": [
    "<h2 style=\"color:rgb(0, 91, 94)\">Exercise 2</h2>\n",
    "<hr style=\\\"border-top: 1px solid rgb(0, 91, 94);\\\" />"
   ]
  },
  {
   "cell_type": "markdown",
   "id": "8299fd32",
   "metadata": {},
   "source": [
    "Adapt the code to capitalise the first letter of the iris species, using regular expressions."
   ]
  },
  {
   "cell_type": "code",
   "execution_count": 2,
   "id": "dea0426c",
   "metadata": {
    "scrolled": false
   },
   "outputs": [
    {
     "data": {
      "text/plain": [
       "['Setosa,0.2,1.4,3.5,5.1',\n",
       " 'Setosa,0.2,1.4,3.0,4.9',\n",
       " 'Setosa,0.2,1.3,3.2,4.7',\n",
       " 'Setosa,0.2,1.5,3.1,4.6',\n",
       " 'Setosa,0.2,1.4,3.6,5.0',\n",
       " 'Setosa,0.4,1.7,3.9,5.4',\n",
       " 'Setosa,0.3,1.4,3.4,4.6',\n",
       " 'Setosa,0.2,1.5,3.4,5.0',\n",
       " 'Setosa,0.2,1.4,2.9,4.4',\n",
       " 'Setosa,0.1,1.5,3.1,4.9',\n",
       " 'Setosa,0.2,1.5,3.7,5.4',\n",
       " 'Setosa,0.2,1.6,3.4,4.8',\n",
       " 'Setosa,0.1,1.4,3.0,4.8',\n",
       " 'Setosa,0.1,1.1,3.0,4.3',\n",
       " 'Setosa,0.2,1.2,4.0,5.8',\n",
       " 'Setosa,0.4,1.5,4.4,5.7',\n",
       " 'Setosa,0.4,1.3,3.9,5.4',\n",
       " 'Setosa,0.3,1.4,3.5,5.1',\n",
       " 'Setosa,0.3,1.7,3.8,5.7',\n",
       " 'Setosa,0.3,1.5,3.8,5.1',\n",
       " 'Setosa,0.2,1.7,3.4,5.4',\n",
       " 'Setosa,0.4,1.5,3.7,5.1',\n",
       " 'Setosa,0.2,1.0,3.6,4.6',\n",
       " 'Setosa,0.5,1.7,3.3,5.1',\n",
       " 'Setosa,0.2,1.9,3.4,4.8',\n",
       " 'Setosa,0.2,1.6,3.0,5.0',\n",
       " 'Setosa,0.4,1.6,3.4,5.0',\n",
       " 'Setosa,0.2,1.5,3.5,5.2',\n",
       " 'Setosa,0.2,1.4,3.4,5.2',\n",
       " 'Setosa,0.2,1.6,3.2,4.7',\n",
       " 'Setosa,0.2,1.6,3.1,4.8',\n",
       " 'Setosa,0.4,1.5,3.4,5.4',\n",
       " 'Setosa,0.1,1.5,4.1,5.2',\n",
       " 'Setosa,0.2,1.4,4.2,5.5',\n",
       " 'Setosa,0.1,1.5,3.1,4.9',\n",
       " 'Setosa,0.2,1.2,3.2,5.0',\n",
       " 'Setosa,0.2,1.3,3.5,5.5',\n",
       " 'Setosa,0.1,1.5,3.1,4.9',\n",
       " 'Setosa,0.2,1.3,3.0,4.4',\n",
       " 'Setosa,0.2,1.5,3.4,5.1',\n",
       " 'Setosa,0.3,1.3,3.5,5.0',\n",
       " 'Setosa,0.3,1.3,2.3,4.5',\n",
       " 'Setosa,0.2,1.3,3.2,4.4',\n",
       " 'Setosa,0.6,1.6,3.5,5.0',\n",
       " 'Setosa,0.4,1.9,3.8,5.1',\n",
       " 'Setosa,0.3,1.4,3.0,4.8',\n",
       " 'Setosa,0.2,1.6,3.8,5.1',\n",
       " 'Setosa,0.2,1.4,3.2,4.6',\n",
       " 'Setosa,0.2,1.5,3.7,5.3',\n",
       " 'Setosa,0.2,1.4,3.3,5.0',\n",
       " 'Versicolor,1.4,4.7,3.2,7.0',\n",
       " 'Versicolor,1.5,4.5,3.2,6.4',\n",
       " 'Versicolor,1.5,4.9,3.1,6.9',\n",
       " 'Versicolor,1.3,4.0,2.3,5.5',\n",
       " 'Versicolor,1.5,4.6,2.8,6.5',\n",
       " 'Versicolor,1.3,4.5,2.8,5.7',\n",
       " 'Versicolor,1.6,4.7,3.3,6.3',\n",
       " 'Versicolor,1.0,3.3,2.4,4.9',\n",
       " 'Versicolor,1.3,4.6,2.9,6.6',\n",
       " 'Versicolor,1.4,3.9,2.7,5.2',\n",
       " 'Versicolor,1.0,3.5,2.0,5.0',\n",
       " 'Versicolor,1.5,4.2,3.0,5.9',\n",
       " 'Versicolor,1.0,4.0,2.2,6.0',\n",
       " 'Versicolor,1.4,4.7,2.9,6.1',\n",
       " 'Versicolor,1.3,3.6,2.9,5.6',\n",
       " 'Versicolor,1.4,4.4,3.1,6.7',\n",
       " 'Versicolor,1.5,4.5,3.0,5.6',\n",
       " 'Versicolor,1.0,4.1,2.7,5.8',\n",
       " 'Versicolor,1.5,4.5,2.2,6.2',\n",
       " 'Versicolor,1.1,3.9,2.5,5.6',\n",
       " 'Versicolor,1.8,4.8,3.2,5.9',\n",
       " 'Versicolor,1.3,4.0,2.8,6.1',\n",
       " 'Versicolor,1.5,4.9,2.5,6.3',\n",
       " 'Versicolor,1.2,4.7,2.8,6.1',\n",
       " 'Versicolor,1.3,4.3,2.9,6.4',\n",
       " 'Versicolor,1.4,4.4,3.0,6.6',\n",
       " 'Versicolor,1.4,4.8,2.8,6.8',\n",
       " 'Versicolor,1.7,5.0,3.0,6.7',\n",
       " 'Versicolor,1.5,4.5,2.9,6.0',\n",
       " 'Versicolor,1.0,3.5,2.6,5.7',\n",
       " 'Versicolor,1.1,3.8,2.4,5.5',\n",
       " 'Versicolor,1.0,3.7,2.4,5.5',\n",
       " 'Versicolor,1.2,3.9,2.7,5.8',\n",
       " 'Versicolor,1.6,5.1,2.7,6.0',\n",
       " 'Versicolor,1.5,4.5,3.0,5.4',\n",
       " 'Versicolor,1.6,4.5,3.4,6.0',\n",
       " 'Versicolor,1.5,4.7,3.1,6.7',\n",
       " 'Versicolor,1.3,4.4,2.3,6.3',\n",
       " 'Versicolor,1.3,4.1,3.0,5.6',\n",
       " 'Versicolor,1.3,4.0,2.5,5.5',\n",
       " 'Versicolor,1.2,4.4,2.6,5.5',\n",
       " 'Versicolor,1.4,4.6,3.0,6.1',\n",
       " 'Versicolor,1.2,4.0,2.6,5.8',\n",
       " 'Versicolor,1.0,3.3,2.3,5.0',\n",
       " 'Versicolor,1.3,4.2,2.7,5.6',\n",
       " 'Versicolor,1.2,4.2,3.0,5.7',\n",
       " 'Versicolor,1.3,4.2,2.9,5.7',\n",
       " 'Versicolor,1.3,4.3,2.9,6.2',\n",
       " 'Versicolor,1.1,3.0,2.5,5.1',\n",
       " 'Versicolor,1.3,4.1,2.8,5.7',\n",
       " 'Virginica,2.5,6.0,3.3,6.3',\n",
       " 'Virginica,1.9,5.1,2.7,5.8',\n",
       " 'Virginica,2.1,5.9,3.0,7.1',\n",
       " 'Virginica,1.8,5.6,2.9,6.3',\n",
       " 'Virginica,2.2,5.8,3.0,6.5',\n",
       " 'Virginica,2.1,6.6,3.0,7.6',\n",
       " 'Virginica,1.7,4.5,2.5,4.9',\n",
       " 'Virginica,1.8,6.3,2.9,7.3',\n",
       " 'Virginica,1.8,5.8,2.5,6.7',\n",
       " 'Virginica,2.5,6.1,3.6,7.2',\n",
       " 'Virginica,2.0,5.1,3.2,6.5',\n",
       " 'Virginica,1.9,5.3,2.7,6.4',\n",
       " 'Virginica,2.1,5.5,3.0,6.8',\n",
       " 'Virginica,2.0,5.0,2.5,5.7',\n",
       " 'Virginica,2.4,5.1,2.8,5.8',\n",
       " 'Virginica,2.3,5.3,3.2,6.4',\n",
       " 'Virginica,1.8,5.5,3.0,6.5',\n",
       " 'Virginica,2.2,6.7,3.8,7.7',\n",
       " 'Virginica,2.3,6.9,2.6,7.7',\n",
       " 'Virginica,1.5,5.0,2.2,6.0',\n",
       " 'Virginica,2.3,5.7,3.2,6.9',\n",
       " 'Virginica,2.0,4.9,2.8,5.6',\n",
       " 'Virginica,2.0,6.7,2.8,7.7',\n",
       " 'Virginica,1.8,4.9,2.7,6.3',\n",
       " 'Virginica,2.1,5.7,3.3,6.7',\n",
       " 'Virginica,1.8,6.0,3.2,7.2',\n",
       " 'Virginica,1.8,4.8,2.8,6.2',\n",
       " 'Virginica,1.8,4.9,3.0,6.1',\n",
       " 'Virginica,2.1,5.6,2.8,6.4',\n",
       " 'Virginica,1.6,5.8,3.0,7.2',\n",
       " 'Virginica,1.9,6.1,2.8,7.4',\n",
       " 'Virginica,2.0,6.4,3.8,7.9',\n",
       " 'Virginica,2.2,5.6,2.8,6.4',\n",
       " 'Virginica,1.5,5.1,2.8,6.3',\n",
       " 'Virginica,1.4,5.6,2.6,6.1',\n",
       " 'Virginica,2.3,6.1,3.0,7.7',\n",
       " 'Virginica,2.4,5.6,3.4,6.3',\n",
       " 'Virginica,1.8,5.5,3.1,6.4',\n",
       " 'Virginica,1.8,4.8,3.0,6.0',\n",
       " 'Virginica,2.1,5.4,3.1,6.9',\n",
       " 'Virginica,2.4,5.6,3.1,6.7',\n",
       " 'Virginica,2.3,5.1,3.1,6.9',\n",
       " 'Virginica,1.9,5.1,2.7,5.8',\n",
       " 'Virginica,2.3,5.9,3.2,6.8',\n",
       " 'Virginica,2.5,5.7,3.3,6.7',\n",
       " 'Virginica,2.3,5.2,3.0,6.7',\n",
       " 'Virginica,1.9,5.0,2.5,6.3',\n",
       " 'Virginica,2.0,5.2,3.0,6.5',\n",
       " 'Virginica,2.3,5.4,3.4,6.2',\n",
       " 'Virginica,1.8,5.1,3.0,5.9']"
      ]
     },
     "execution_count": 2,
     "metadata": {},
     "output_type": "execute_result"
    }
   ],
   "source": [
    "import re\n",
    "import urllib.request\n",
    "\n",
    "# See https://favtutor.com/blogs/capitalize-first-letter-python\n",
    "def convert_into_uppercase(a):\n",
    "    return a.group(1) + a.group(2).upper()\n",
    "\n",
    "# Url for iris dataset\n",
    "url = r'https://archive.ics.uci.edu/ml/machine-learning-databases/iris/iris.data'\n",
    "\n",
    "# read in the iris data\n",
    "iris = [line.decode('utf-8').strip() for line in urllib.request.urlopen(url)]\n",
    "\n",
    "# strip the data using regular expreessions\n",
    "strip_iris = re.compile(r'([0-9]\\.[0-9]),([0-9]\\.[0-9]),([0-9]\\.[0-9]),([0-9]\\.[0-9]),Iris-([a-z]+)')\n",
    "\n",
    "# reorder the colums, capitalize the first letter of each line, apprend each line to the output array\n",
    "output = []\n",
    "for line in iris:\n",
    "    line = [strip_iris.sub(r'\\5,\\4,\\3,\\2,\\1', line)]\n",
    "    result = re.sub(\"(^|\\s)(\\S)\", convert_into_uppercase, line[0])\n",
    "    if result != \"\":\n",
    "        output.append(result)\n",
    "output\n",
    "    \n"
   ]
  }
 ],
 "metadata": {
  "kernelspec": {
   "display_name": "Python 3 (ipykernel)",
   "language": "python",
   "name": "python3"
  },
  "language_info": {
   "codemirror_mode": {
    "name": "ipython",
    "version": 3
   },
   "file_extension": ".py",
   "mimetype": "text/x-python",
   "name": "python",
   "nbconvert_exporter": "python",
   "pygments_lexer": "ipython3",
   "version": "3.9.7"
  }
 },
 "nbformat": 4,
 "nbformat_minor": 5
}
