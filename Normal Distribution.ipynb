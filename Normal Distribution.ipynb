{
 "cells": [
  {
   "cell_type": "markdown",
   "id": "c803458e",
   "metadata": {},
   "source": [
    "<h1 style=\"font-size:3rem;color:rgb(0, 91, 94);text-align:center;\">Normal Distribution</h1>\n",
    "<hr style=\\\"border-top: 1px solid rgb(0, 91, 94);\\\" />"
   ]
  },
  {
   "cell_type": "markdown",
   "id": "d8201652",
   "metadata": {},
   "source": [
    "<h2 style=\"color:rgb(0, 91, 94)\">Analysis of the Normal Distribution</h2>\n",
    "<hr style=\\\"border-top: 1px solid rgb(0, 91, 94);\\\" />"
   ]
  },
  {
   "attachments": {
    "image.png": {
     "image/png": "[encoded data removed]"
    }
   },
   "cell_type": "markdown",
   "id": "927d1a52",
   "metadata": {},
   "source": [
    "- **What is the Normal Distribution?**\n",
    "\n",
    "\"The normal distribution describes a family of continuous probability distributions,\n",
    "having the same general shape, and differing in their location (that is, the mean or\n",
    "average) and scale parameters (that is, the standard deviation)\" (Ahsanullah, Kibria, and Shakil, 2014).\n",
    "\n",
    "\"The normal distributions occurs often in nature. For example, it describes the commonly occurring distribution of samples influenced by a large number of tiny, random disturbances, each with its own unique distribution\" (Peebles, 2001).\n",
    "\n",
    "\"While statisticians and mathematicians uniformly use the term \"normal distribution\" for this distribution, physicists sometimes call it a Gaussian distribution and, because of its curved flaring shape, social scientists refer to it as the 'bell curve'\" (Weisstein, 2002).\n",
    "\n",
    "- **Origins**\n",
    "\n",
    "\"The development of the general theories of the normal distributions began with the work of de Moivre (1733, 1738) in his studies of approximations to certain binomial distributions for large positive integer n > 0\" (Ahsanullah, Kibria, and Shakil, 2014).\n",
    "\n",
    "\"de Moivre developed the normal distribution as an approximation to the binomial distribution, and it was subsequently used by Laplace in 1783 to study measurement errors and by Gauss in 1809 in the analysis of astronomical data\" (Weisstein, 2002).\"\n",
    "\n",
    "\"One of the first applications of the normal distribution was to the analysis of errors of measurement made in astronomical observations, errors that occurred because of imperfect instruments and imperfect observers. Galileo in the 17th century noted that these errors were symmetric and that small errors occurred more frequently than large errors. This led to several hypothesized distributions of errors, but it was not until the early 19th century that it was discovered that these errors followed a normal distribution\" (Onlinestatbook.com, 2022).\n",
    "\n",
    "- **Properties**\n",
    "\n",
    "\"The graph of its probability density function is a symmetric and bell-shaped curve\" (Ahsanullah, Kibria, and Shakil, 2014).\n",
    "\n",
    "About 68% of values drawn from a normal distribution are within one standard deviation σ away from the mean; about 95% of the values lie within two standard deviations; and about 99.7% are within three standard deviations (Mathsisfun.com, 2022)\n",
    "\n",
    "\"The normal distribution plays a vital role in many applied problems of biology, economics,engineering, financial risk management, genetics, hydrology, mechanics, medicine,number theory, statistics, physics, psychology, reliability, etc., and has been has beenextensively studied, both from theoretical and applications point of view, by many researchers, since its inception\" (Ahsanullah, Kibria, and Shakil, 2014).\n",
    "\n",
    "![image.png](attachment:image.png)\n",
    "Image Source:https://en.wikipedia.org/wiki/Normal_distribution\n",
    "\n",
    "- **In Research**\n",
    "\n"
   ]
  },
  {
   "cell_type": "markdown",
   "id": "aa4dcd2d",
   "metadata": {},
   "source": [
    "### References:\n",
    "\n",
    "Ahsanullah, M., Kibria, B. M., & Shakil, M. (2014). Normal distribution. In Normal and Student st Distributions and Their Applications (pp. 7-50). Atlantis Press, Paris.\n",
    "\n",
    "Peebles Jr, P. Z. (2001). Probability, random variables, and random signal principles. McGraw-Hill, pp. 51, 51, 125\n",
    "\n",
    "Weisstein, E. W. (2002). Normal distribution. https://mathworld. wolfram. com/.\n",
    "\n",
    "Mathsisfun.com. (2022). Normal Distribution. [online] Available at: https://www.mathsisfun.com/data/standard-normal-distribution.html\n",
    "\n",
    "Onlinestatbook.com. (2022). History of Normal Distribution. [online] Available at: https://onlinestatbook.com/2/normal_distribution/history_normal.html [Accessed 31 Dec. 2022]."
   ]
  },
  {
   "cell_type": "markdown",
   "id": "5faee056",
   "metadata": {},
   "source": [
    "<h2 style=\"color:rgb(0, 91, 94)\">Python Example</h2>\n",
    "<hr style=\\\"border-top: 1px solid rgb(0, 91, 94);\\\" />"
   ]
  },
  {
   "cell_type": "code",
   "execution_count": 70,
   "id": "9b2b750d",
   "metadata": {},
   "outputs": [
    {
     "data": {
      "text/plain": [
       "Text(0.5, 1.0, 'Normal Distribution of sample data')"
      ]
     },
     "execution_count": 70,
     "metadata": {},
     "output_type": "execute_result"
    },
    {
     "data": {
      "image/png": "[encoded data removed]",
      "text/plain": [
       "<Figure size 432x288 with 1 Axes>"
      ]
     },
     "metadata": {
      "needs_background": "light"
     },
     "output_type": "display_data"
    }
   ],
   "source": [
    "# https://numpy.org/doc/stable/reference/random/generated/numpy.random.normal.html\n",
    "# https://en.wikipedia.org/wiki/Normal_distribution\n",
    "\n",
    "import matplotlib.pyplot as plt\n",
    "import numpy as np\n",
    "\n",
    "# Random number generator with seed value = 12 (for consistency)\n",
    "rng = np.random.default_rng(12)\n",
    "\n",
    "scores = []\n",
    "\n",
    "# Repeat below steps until \"scores\" contains 10000 datapoints\n",
    "while len(scores) < 10000:\n",
    "    # Returns 1 randomly generated, normally distributed whole number based on defined Mean(100) and SD(34) as \"sample\".\n",
    "    sample = int(rng.normal(100, 34, 1))\n",
    "    # Appends \"sample\" to \"scores\"\n",
    "    scores.append(sample)\n",
    "\n",
    "\n",
    "# Normally Distributed Histogram of \"scores\" using matplotlib.\n",
    "plt.hist(scores, bins=50)\n",
    "plt.title(\"Normal Distribution of sample data\")"
   ]
  }
 ],
 "metadata": {
  "kernelspec": {
   "display_name": "Python 3 (ipykernel)",
   "language": "python",
   "name": "python3"
  },
  "language_info": {
   "codemirror_mode": {
    "name": "ipython",
    "version": 3
   },
   "file_extension": ".py",
   "mimetype": "text/x-python",
   "name": "python",
   "nbconvert_exporter": "python",
   "pygments_lexer": "ipython3",
   "version": "3.9.7"
  }
 },
 "nbformat": 4,
 "nbformat_minor": 5
}
