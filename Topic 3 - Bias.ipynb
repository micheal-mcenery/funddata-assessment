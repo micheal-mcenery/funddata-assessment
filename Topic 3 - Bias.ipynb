{
 "cells": [
  {
   "cell_type": "markdown",
   "id": "9ac815de",
   "metadata": {},
   "source": [
    "<h1 style=\"font-size:3rem;color:rgb(0, 91, 94);text-align:center;\">Topic 3 - Bias</h1>\n",
    "<hr style=\\\"border-top: 1px solid rgb(0, 91, 94);\\\" />"
   ]
  },
  {
   "cell_type": "markdown",
   "id": "ac737d87",
   "metadata": {},
   "source": [
    "<h2 style=\"color:rgb(0, 91, 94)\">Exercise 1</h2>\n",
    "<hr style=\\\"border-top: 1px solid rgb(0, 91, 94);\\\" />"
   ]
  },
  {
   "cell_type": "markdown",
   "id": "b68dbe4e",
   "metadata": {},
   "source": [
    "Give three real-world examples of different types of cognitive bias.\n",
    "\n",
    "1. Overconfidence Bias: Research has shown that individuals are more likely to be overconfident in predicting the outcome of sports games due to individual bias (Ronis and Yates, 1987).\n",
    "\n",
    "2. Confirmation Bias: Research has shown that confirmation bias ('the tendency to favor information that confirms one’s preexisting beliefs and ignore information that challenges them') relating to news sources can influence individuals precieved believability of news headlines based on the individuals rating of the source relaibility (Kim and Dennis, 2018).\n",
    "\n",
    "3. Herd Mentality: Research has shown that during a crisis (i.e. COVID-19 Pandemic), individuals are more likly to engage in Herd Mentality behaviours (a form of cognitive bias defined as \"an alignment of thoughts and/or behaviours of individuals in a group, that emerges without purposeful coordination by a central authority or leading figure, and instead through local interactions among agents\"), such as panic buying, especially when influenced by the media (Loxton et al. 2020).\n",
    "\n",
    "\n",
    "References:\n",
    "\n",
    "Ronis, D. L., & Yates, J. F. (1987). Components of probability judgment accuracy: Individual consistency and effects of subject matter and assessment method. Organizational Behavior and Human Decision Processes, 40(2), 193-218.\n",
    "\n",
    "Kim, A., & Dennis, A. (2018). Says who?: How news presentation format influences perceived believability and the engagement level of social media users.\n",
    "\n",
    "Loxton, M., Truskett, R., Scarf, B., Sindone, L., Baldry, G., & Zhao, Y. (2020). Consumer behaviour during crises: Preliminary research on how coronavirus has manifested consumer panic buying, herd mentality, changing discretionary spending and the role of the media in influencing behaviour. Journal of risk and financial management, 13(8), 166."
   ]
  }
 ],
 "metadata": {
  "kernelspec": {
   "display_name": "Python 3 (ipykernel)",
   "language": "python",
   "name": "python3"
  },
  "language_info": {
   "codemirror_mode": {
    "name": "ipython",
    "version": 3
   },
   "file_extension": ".py",
   "mimetype": "text/x-python",
   "name": "python",
   "nbconvert_exporter": "python",
   "pygments_lexer": "ipython3",
   "version": "3.9.7"
  }
 },
 "nbformat": 4,
 "nbformat_minor": 5
}
