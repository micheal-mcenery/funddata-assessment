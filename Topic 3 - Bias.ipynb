{
 "cells": [
  {
   "cell_type": "markdown",
   "id": "9ac815de",
   "metadata": {},
   "source": [
    "<h1 style=\"font-size:3rem;color:rgb(0, 91, 94);text-align:center;\">Topic 3 - Bias</h1>\n",
    "<hr style=\\\"border-top: 1px solid rgb(0, 91, 94);\\\" />"
   ]
  },
  {
   "cell_type": "markdown",
   "id": "ac737d87",
   "metadata": {},
   "source": [
    "<h2 style=\"color:rgb(0, 91, 94)\">Exercise 1</h2>\n",
    "<hr style=\\\"border-top: 1px solid rgb(0, 91, 94);\\\" />"
   ]
  },
  {
   "cell_type": "markdown",
   "id": "b68dbe4e",
   "metadata": {},
   "source": [
    "Give three real-world examples of different types of cognitive bias.\n",
    "\n",
    "1. Overconfidence Bias: Research has shown that individuals are more likely to be overconfident in predicting the outcome of sports games due to individual bias (Ronis and Yates, 1987).\n",
    "\n",
    "2. Confirmation Bias: Research has shown that confirmation bias ('the tendency to favor information that confirms one’s preexisting beliefs and ignore information that challenges them') relating to news sources can influence individuals precieved believability of news headlines based on the individuals rating of the source relaibility (Kim and Dennis, 2018).\n",
    "\n",
    "3. Herd Mentality: Research has shown that during a crisis (i.e. COVID-19 Pandemic), individuals are more likly to engage in Herd Mentality behaviours (a form of cognitive bias defined as \"an alignment of thoughts and/or behaviours of individuals in a group, that emerges without purposeful coordination by a central authority or leading figure, and instead through local interactions among agents\"), such as panic buying, especially when influenced by the media (Loxton et al. 2020).\n",
    "\n",
    "\n",
    "References:\n",
    "\n",
    "Ronis, D. L., & Yates, J. F. (1987). Components of probability judgment accuracy: Individual consistency and effects of subject matter and assessment method. Organizational Behavior and Human Decision Processes, 40(2), 193-218.\n",
    "\n",
    "Kim, A., & Dennis, A. (2018). Says who?: How news presentation format influences perceived believability and the engagement level of social media users.\n",
    "\n",
    "Loxton, M., Truskett, R., Scarf, B., Sindone, L., Baldry, G., & Zhao, Y. (2020). Consumer behaviour during crises: Preliminary research on how coronavirus has manifested consumer panic buying, herd mentality, changing discretionary spending and the role of the media in influencing behaviour. Journal of risk and financial management, 13(8), 166.\n"
   ]
  },
  {
   "cell_type": "markdown",
   "id": "d5e0d777",
   "metadata": {},
   "source": [
    "<h2 style=\"color:rgb(0, 91, 94)\">Exercise 2</h2>\n",
    "<hr style=\\\"border-top: 1px solid rgb(0, 91, 94);\\\" />"
   ]
  },
  {
   "cell_type": "markdown",
   "id": "2037aaf4",
   "metadata": {},
   "source": [
    "Show that the difference between the standard deviation calculations is greatest for small sample sizes.\n",
    "\n",
    "Depicted below are the calculations of standard deviation for two different sample sizes, one being sample size 5 and the other being sample size 500. 100000 samples of each sample size are created and the standard deviations are representeded in the two graphs. As can be seen, when sample sizes are smaller, the calculation tends to systematically under-estimate the standard deviation, while larger sample sizes tend to produce graphs which more accurately estimate the standard deviation, thus the difference is greater for small sample sizes."
   ]
  },
  {
   "cell_type": "code",
   "execution_count": 1,
   "id": "9d44efcc",
   "metadata": {},
   "outputs": [],
   "source": [
    "# Numerical arrays.\n",
    "import numpy as np\n",
    "\n",
    "# Plots.\n",
    "import matplotlib.pyplot as plt"
   ]
  },
  {
   "cell_type": "code",
   "execution_count": 17,
   "id": "c54cc9c3",
   "metadata": {
    "scrolled": false
   },
   "outputs": [
    {
     "data": {
      "image/png": "[encoded data removed]",
      "text/plain": [
       "<Figure size 864x432 with 1 Axes>"
      ]
     },
     "metadata": {
      "needs_background": "light"
     },
     "output_type": "display_data"
    }
   ],
   "source": [
    "# Create 100000 samples of size 5 - standard deviation is 2.0.\n",
    "small_samples = np.random.normal(0.0, 2.0, (100000, 5))\n",
    "\n",
    "small_stdevs = small_samples.std(axis=1)\n",
    "\n",
    "# View a histogram\n",
    "fig, ax = plt.subplots(figsize=(12, 6))\n",
    "\n",
    "# Plot histogram.\n",
    "plt.hist(small_stdevs, bins=100)\n",
    "\n",
    "# Draw a vertical line where the actual standard deviation is.\n",
    "plt.axvline(x=2.0, color='red');"
   ]
  },
  {
   "cell_type": "code",
   "execution_count": 18,
   "id": "97480f45",
   "metadata": {},
   "outputs": [
    {
     "data": {
      "image/png": "[encoded data removed]",
      "text/plain": [
       "<Figure size 864x432 with 1 Axes>"
      ]
     },
     "metadata": {
      "needs_background": "light"
     },
     "output_type": "display_data"
    }
   ],
   "source": [
    "# Create 100000 samples of size 500 - standard deviation is 2.0.\n",
    "large_samples = np.random.normal(0.0, 2.0, (100000, 500))\n",
    "\n",
    "large_stdevs = large_samples.std(axis=1)\n",
    "\n",
    "# View a histogram\n",
    "fig, ax = plt.subplots(figsize=(12, 6))\n",
    "\n",
    "# Plot histogram.\n",
    "plt.hist(large_stdevs, bins=100)\n",
    "\n",
    "# Draw a vertical line where the actual standard deviation is.\n",
    "plt.axvline(x=2.0, color='red');"
   ]
  }
 ],
 "metadata": {
  "kernelspec": {
   "display_name": "Python 3 (ipykernel)",
   "language": "python",
   "name": "python3"
  },
  "language_info": {
   "codemirror_mode": {
    "name": "ipython",
    "version": 3
   },
   "file_extension": ".py",
   "mimetype": "text/x-python",
   "name": "python",
   "nbconvert_exporter": "python",
   "pygments_lexer": "ipython3",
   "version": "3.9.7"
  }
 },
 "nbformat": 4,
 "nbformat_minor": 5
}
