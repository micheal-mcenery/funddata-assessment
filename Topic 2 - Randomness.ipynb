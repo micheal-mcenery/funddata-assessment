{
 "cells": [
  {
   "cell_type": "markdown",
   "id": "287e9d1f",
   "metadata": {},
   "source": [
    "<h1 style=\"font-size:3rem;color:rgb(0, 91, 94);text-align:center;\">Topic 2 - Randomness</h1>\n",
    "<hr style=\\\"border-top: 1px solid rgb(0, 91, 94);\\\" />"
   ]
  },
  {
   "cell_type": "markdown",
   "id": "f5017037",
   "metadata": {},
   "source": [
    "### Overview\n",
    "Below is a general overview of this topic: \n",
    "\n",
    "This topic focuses on randomness and pseudo-random numbers. Initially, we learn about random chance via simulating coin flips using numpy and distributing them on histograms. Later, we learn about Random Distributions in numpy by using np.random.default_rng to create random number generators."
   ]
  },
  {
   "cell_type": "markdown",
   "id": "511c391e",
   "metadata": {},
   "source": [
    "<h2 style=\"color:rgb(0, 91, 94)\">Exercise 1</h2>\n",
    "<hr style=\\\"border-top: 1px solid rgb(0, 91, 94);\\\" />"
   ]
  },
  {
   "cell_type": "markdown",
   "id": "2ffa3c69",
   "metadata": {},
   "source": [
    "It is somewhat interesting that (5 * 4 * 3 * 2 * 1) perfectly divides (10 * 9 * 8 * 7 * 6) - there's no remainder.\n",
    "\n",
    "If we only wanted exactly four heads as opposed to five, the equivalent calculation would be (10 * 9 * 8 * 7) / (4 * 3 * 2 * 1).\n",
    "\n",
    "Does that evenly divide too? What is the formula in general?\n",
    "\n",
    "Does it always come out as a positive whole number?"
   ]
  },
  {
   "cell_type": "markdown",
   "id": "651ef63e",
   "metadata": {},
   "source": [
    "Does (10 * 9 * 8 * 7) / (4 * 3 * 2 * 1) divide evenly? \n",
    "\n",
    "Yes; (10 * 9 * 8 * 7) / (4 * 3 * 2 * 1) = 210"
   ]
  },
  {
   "attachments": {
    "image-2.png": {
     "image/png": "[encoded data removed]"
    },
    "image.png": {
     "image/png": "[encoded data removed]"
    }
   },
   "cell_type": "markdown",
   "id": "10bdd23b",
   "metadata": {},
   "source": [
    "What is the formula in general? \n",
    "\n",
    "The general formula related to this concept is the \"Combinations without Repetitions\" formula (Sangaku Maths, 2022).\n",
    "\n",
    "![image.png](attachment:image.png)\n",
    "\n",
    "Where n = 10 (the number of coin flips); and k = the number of combinations of heads/tails you would like to count without repetition.\n",
    "\n",
    "This formula is approporiate as we are interested in counting the number of combinations of heads/tails in 10 coin flips without repetition. For example if we wanted to count the number of combinations of 4 heads without repetition:\n",
    "\n",
    "![image-2.png](attachment:image-2.png)\n",
    "\n",
    "References:\n",
    "\n",
    "Sangaku Maths (2022). Combinations without repetition. [online] Sangakoo.com. Available at: https://www.sangakoo.com/en/unit/combinations-without-repetition#:~:text=The%20combinations%20without%20repetition%20of,represented%20as%20C%20n%20%2C%20k%20. [Accessed 3 Nov. 2022]\n"
   ]
  },
  {
   "cell_type": "markdown",
   "id": "ff55cbb4",
   "metadata": {},
   "source": [
    "Does it always come out as a positive whole number?\n",
    "\n",
    "Yes, provided there is at least 1 heads in a set of 10 coin flips.\n",
    "\n",
    "*note for 10 heads there is only 1 combination."
   ]
  },
  {
   "cell_type": "code",
   "execution_count": 2,
   "id": "2497ebc4",
   "metadata": {},
   "outputs": [
    {
     "name": "stdout",
     "output_type": "stream",
     "text": [
      "The number of unique positions for 9 heads = 10.0\n",
      "The number of unique positions for 8 heads = 45.0\n",
      "The number of unique positions for 7 heads = 120.0\n",
      "The number of unique positions for 6 heads = 210.0\n",
      "The number of unique positions for 5 heads = 252.0\n",
      "The number of unique positions for 4 heads = 210.0\n",
      "The number of unique positions for 3 heads = 120.0\n",
      "The number of unique positions for 2 heads = 45.0\n",
      "The number of unique positions for 1 heads = 10.0\n"
     ]
    }
   ],
   "source": [
    "count = 9\n",
    "nine_heads = (10*9*8*7*6*5*4*3*2)/(9*8*7*6*5*4*3*2*1)\n",
    "eight_heads = (10*9*8*7*6*5*4*3)/(8*7*6*5*4*3*2*1)\n",
    "seven_heads = (10*9*8*7*6*5*4)/(7*6*5*4*3*2*1)\n",
    "six_heads = (10*9*8*7*6*5)/(6*5*4*3*2*1)\n",
    "five_heads = (10*9*8*7*6)/(5*4*3*2*1)\n",
    "four_heads = (10*9*8*7)/(4*3*2*1)\n",
    "three_heads = (10*9*8)/(3*2*1)\n",
    "two_heads = (10*9)/(2*1)\n",
    "one_heads = 10.0\n",
    "\n",
    "calculations = [nine_heads, eight_heads, seven_heads, six_heads, five_heads, four_heads, three_heads, two_heads, one_heads]\n",
    "\n",
    "for i in calculations:\n",
    "    print(f'The number of unique positions for {count} heads = {i}')\n",
    "    count += -1"
   ]
  },
  {
   "cell_type": "markdown",
   "id": "b01cd607",
   "metadata": {},
   "source": [
    "<h2 style=\"color:rgb(0, 91, 94)\">Exercise 2</h2>\n",
    "<hr style=\\\"border-top: 1px solid rgb(0, 91, 94);\\\" />"
   ]
  },
  {
   "cell_type": "markdown",
   "id": "9947069a",
   "metadata": {},
   "source": [
    "Note that there are the same number of ways to get 4 tails as there to get 4 heads. Explain why this is."
   ]
  },
  {
   "cell_type": "markdown",
   "id": "6a6b1c97",
   "metadata": {},
   "source": [
    "In python, heads and tails are represented by 1's and 0's and as a result can be considered interchangeable in their representation. Therefore, the number of ways to get 4 heads should be identicial to the number of ways to get 4 tails.\n",
    "\n",
    "Like getting 4 heads and 6 tails, there are also 210 unique ways of getting 4 tails and 6 heads as the above formula/(10 * 9 * 8 * 7)/(4 * 3 * 2 * 1) can be applied to either 1's or 0's.\n"
   ]
  },
  {
   "cell_type": "markdown",
   "id": "fbe4cec7",
   "metadata": {},
   "source": [
    "<h2 style=\"color:rgb(0, 91, 94)\">Exercise 3</h2>\n",
    "<hr style=\\\"border-top: 1px solid rgb(0, 91, 94);\\\" />"
   ]
  },
  {
   "cell_type": "markdown",
   "id": "2e929344",
   "metadata": {},
   "source": [
    "Plot bar charts or histograms of any three different distributions listed at the following link:\n",
    "\n",
    "https://numpy.org/doc/stable/reference/random/generator.html#distributions"
   ]
  },
  {
   "cell_type": "markdown",
   "id": "1aa6b277",
   "metadata": {},
   "source": [
    "Uniform Distribution:\n",
    "\n",
    "Low = 0\n",
    "\n",
    "High = 10\n",
    "\n",
    "https://numpy.org/doc/stable/reference/random/generated/numpy.random.Generator.uniform.html#numpy.random.Generator.uniform"
   ]
  },
  {
   "cell_type": "code",
   "execution_count": 7,
   "id": "29d7aae7",
   "metadata": {},
   "outputs": [
    {
     "data": {
      "text/plain": [
       "Text(0.5, 1.0, 'Uniform Distribution')"
      ]
     },
     "execution_count": 7,
     "metadata": {},
     "output_type": "execute_result"
    },
    {
     "data": {
      "image/png": "[encoded data removed]",
      "text/plain": [
       "<Figure size 432x288 with 1 Axes>"
      ]
     },
     "metadata": {
      "needs_background": "light"
     },
     "output_type": "display_data"
    }
   ],
   "source": [
    "import matplotlib.pyplot as plt\n",
    "import numpy as np\n",
    "\n",
    "# define random number generator\n",
    "rng = np.random.default_rng()\n",
    "\n",
    "# generate samples\n",
    "samples = rng.uniform(0, 10, 10000)\n",
    "\n",
    "#define plot\n",
    "fig, ax = plt.subplots()\n",
    "\n",
    "# generate histogram\n",
    "ax.hist(samples, bins=50)\n",
    "ax.set_title(\"Uniform Distribution\")"
   ]
  },
  {
   "cell_type": "markdown",
   "id": "d297d6ea",
   "metadata": {},
   "source": [
    "Chisquare Distribution:\n",
    "\n",
    "Number of degrees of freedom = 4\n",
    "\n",
    "https://numpy.org/doc/stable/reference/random/generated/numpy.random.Generator.chisquare.html#numpy.random.Generator.chisquare"
   ]
  },
  {
   "cell_type": "code",
   "execution_count": 6,
   "id": "3815d423",
   "metadata": {},
   "outputs": [
    {
     "data": {
      "text/plain": [
       "Text(0.5, 1.0, 'Chisquare Distribution:')"
      ]
     },
     "execution_count": 6,
     "metadata": {},
     "output_type": "execute_result"
    },
    {
     "data": {
      "image/png": "[encoded data removed]",
      "text/plain": [
       "<Figure size 432x288 with 1 Axes>"
      ]
     },
     "metadata": {
      "needs_background": "light"
     },
     "output_type": "display_data"
    }
   ],
   "source": [
    "# define random number generator\n",
    "rng = np.random.default_rng()\n",
    "\n",
    "# generate samples\n",
    "samples = rng.chisquare(4, 10000)\n",
    "\n",
    "#define plot\n",
    "fig, ax = plt.subplots()\n",
    "\n",
    "# generate histogram\n",
    "ax.hist(samples, bins=50)\n",
    "ax.set_title(\"Chisquare Distribution\")"
   ]
  },
  {
   "cell_type": "markdown",
   "id": "8483fcdb",
   "metadata": {},
   "source": [
    "Beta Distribution:\n",
    "\n",
    "Alpha = 0.5\n",
    "\n",
    "Beta = 0.5\n",
    "\n",
    "https://numpy.org/doc/stable/reference/random/generated/numpy.random.Generator.beta.html#numpy.random.Generator.beta"
   ]
  },
  {
   "cell_type": "code",
   "execution_count": 5,
   "id": "cff31f91",
   "metadata": {},
   "outputs": [
    {
     "data": {
      "text/plain": [
       "Text(0.5, 1.0, 'Test')"
      ]
     },
     "execution_count": 5,
     "metadata": {},
     "output_type": "execute_result"
    },
    {
     "data": {
      "image/png": "[encoded data removed]",
      "text/plain": [
       "<Figure size 432x288 with 1 Axes>"
      ]
     },
     "metadata": {
      "needs_background": "light"
     },
     "output_type": "display_data"
    }
   ],
   "source": [
    "# define random number generator\n",
    "rng = np.random.default_rng()\n",
    "\n",
    "# generate samples\n",
    "samples = rng.beta(0.5, 0.5, 10000)\n",
    "\n",
    "#define plot\n",
    "fig, ax = plt.subplots()\n",
    "\n",
    "# generate histogram\n",
    "ax.hist(samples, bins=30)\n",
    "ax.set_title(\"Beta Distribution\")"
   ]
  }
 ],
 "metadata": {
  "kernelspec": {
   "display_name": "Python 3 (ipykernel)",
   "language": "python",
   "name": "python3"
  },
  "language_info": {
   "codemirror_mode": {
    "name": "ipython",
    "version": 3
   },
   "file_extension": ".py",
   "mimetype": "text/x-python",
   "name": "python",
   "nbconvert_exporter": "python",
   "pygments_lexer": "ipython3",
   "version": "3.9.7"
  }
 },
 "nbformat": 4,
 "nbformat_minor": 5
}
