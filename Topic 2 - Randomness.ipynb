{
 "cells": [
  {
   "cell_type": "markdown",
   "id": "287e9d1f",
   "metadata": {},
   "source": [
    "<h1 style=\"font-size:3rem;color:rgb(0, 91, 94);text-align:center;\">Topic 2 - Randomness</h1>\n",
    "<hr style=\\\"border-top: 1px solid rgb(0, 91, 94);\\\" />"
   ]
  },
  {
   "cell_type": "markdown",
   "id": "511c391e",
   "metadata": {},
   "source": [
    "<h2 style=\"color:rgb(0, 91, 94)\">Exercise 1</h2>\n",
    "<hr style=\\\"border-top: 1px solid rgb(0, 91, 94);\\\" />"
   ]
  },
  {
   "cell_type": "markdown",
   "id": "2ffa3c69",
   "metadata": {},
   "source": [
    "It is somewhat interesting that (5 * 4 * 3 * 2 * 1) perfectly divides (10 * 9 * 8 * 7 * 6) - there's no remainder.\n",
    "\n",
    "If we only wanted exactly four heads as opposed to five, the equivalent calculation would be (10 * 9 * 8 * 7) / (4 * 3 * 2 * 1).\n",
    "\n",
    "Does that evenly divide too? What is the formula in general?\n",
    "\n",
    "Does it always come out as a positive whole number?"
   ]
  },
  {
   "cell_type": "markdown",
   "id": "651ef63e",
   "metadata": {},
   "source": [
    "Does (10 * 9 * 8 * 7) / (4 * 3 * 2 * 1) divide evenly? \n",
    "\n",
    "Yes; (10 * 9 * 8 * 7) / (4 * 3 * 2 * 1) = 210"
   ]
  },
  {
   "attachments": {
    "image-2.png": {
     "image/png": "[encoded data removed]"
    },
    "image.png": {
     "image/png": "[encoded data removed]"
    }
   },
   "cell_type": "markdown",
   "id": "10bdd23b",
   "metadata": {},
   "source": [
    "What is the formula in general? \n",
    "\n",
    "The general formula related to this concept is the \"Combinations without Repetitions\" formula (Sangaku Maths, 2022).\n",
    "\n",
    "![image.png](attachment:image.png)\n",
    "\n",
    "Where n = 10 (the number of coin flips); and k = the number of combinations of heads/tails you would like to count without repetition.\n",
    "\n",
    "This formula is approporiate as we are interested in counting the number of combinations of heads/tails in 10 coin flips without repetition. For example if we wanted to count the number of combinations of 4 heads without repetition:\n",
    "\n",
    "![image-2.png](attachment:image-2.png)\n",
    "\n",
    "References:\n",
    "\n",
    "Sangaku Maths (2022). Combinations without repetition. [online] Sangakoo.com. Available at: https://www.sangakoo.com/en/unit/combinations-without-repetition#:~:text=The%20combinations%20without%20repetition%20of,represented%20as%20C%20n%20%2C%20k%20. [Accessed 3 Nov. 2022]\n"
   ]
  },
  {
   "cell_type": "markdown",
   "id": "ff55cbb4",
   "metadata": {},
   "source": [
    "Does it always come out as a positive whole number?\n",
    "\n",
    "Yes, provided there is at least 1 heads in a set of 10 coin flips.\n",
    "\n",
    "*note for 10 heads there is only 1 combination."
   ]
  },
  {
   "cell_type": "code",
   "execution_count": 1,
   "id": "2497ebc4",
   "metadata": {},
   "outputs": [
    {
     "name": "stdout",
     "output_type": "stream",
     "text": [
      "The number of unique positions for 9 heads = 10.0\n",
      "The number of unique positions for 8 heads = 45.0\n",
      "The number of unique positions for 7 heads = 120.0\n",
      "The number of unique positions for 6 heads = 210.0\n",
      "The number of unique positions for 5 heads = 252.0\n",
      "The number of unique positions for 4 heads = 210.0\n",
      "The number of unique positions for 3 heads = 120.0\n",
      "The number of unique positions for 2 heads = 45.0\n",
      "The number of unique positions for 1 heads = 10.0\n"
     ]
    }
   ],
   "source": [
    "count = 9\n",
    "nine_heads = (10*9*8*7*6*5*4*3*2)/(9*8*7*6*5*4*3*2*1)\n",
    "eight_heads = (10*9*8*7*6*5*4*3)/(8*7*6*5*4*3*2*1)\n",
    "seven_heads = (10*9*8*7*6*5*4)/(7*6*5*4*3*2*1)\n",
    "six_heads = (10*9*8*7*6*5)/(6*5*4*3*2*1)\n",
    "five_heads = (10*9*8*7*6)/(5*4*3*2*1)\n",
    "four_heads = (10*9*8*7)/(4*3*2*1)\n",
    "three_heads = (10*9*8)/(3*2*1)\n",
    "two_heads = (10*9)/(2*1)\n",
    "one_heads = 10.0\n",
    "\n",
    "calculations = [nine_heads, eight_heads, seven_heads, six_heads, five_heads, four_heads, three_heads, two_heads, one_heads]\n",
    "\n",
    "for i in calculations:\n",
    "    print(f'The number of unique positions for {count} heads = {i}')\n",
    "    count += -1"
   ]
  },
  {
   "cell_type": "markdown",
   "id": "b01cd607",
   "metadata": {},
   "source": [
    "<h2 style=\"color:rgb(0, 91, 94)\">Exercise 2</h2>\n",
    "<hr style=\\\"border-top: 1px solid rgb(0, 91, 94);\\\" />"
   ]
  },
  {
   "cell_type": "markdown",
   "id": "9947069a",
   "metadata": {},
   "source": [
    "Note that there are the same number of ways to get 4 tails as there to get 4 heads. Explain why this is."
   ]
  },
  {
   "cell_type": "markdown",
   "id": "6a6b1c97",
   "metadata": {},
   "source": [
    "In python, heads and tails are represented by 1's and 0's and as a result can be considered interchangeable in their representation. Therefore, the number of ways to get 4 heads should be identicial to the number of ways to get 4 tails.\n",
    "\n",
    "Like getting 4 heads and 6 tails, there are also 210 unique ways of getting 4 tails and 6 heads as the above formula/(10 * 9 * 8 * 7)/(4 * 3 * 2 * 1) can be applied to either 1's or 0's.\n"
   ]
  },
  {
   "cell_type": "markdown",
   "id": "fbe4cec7",
   "metadata": {},
   "source": [
    "<h2 style=\"color:rgb(0, 91, 94)\">Exercise 3</h2>\n",
    "<hr style=\\\"border-top: 1px solid rgb(0, 91, 94);\\\" />"
   ]
  },
  {
   "cell_type": "markdown",
   "id": "2e929344",
   "metadata": {},
   "source": [
    "Plot bar charts or histograms of any three different distributions listed at the following link:\n",
    "\n",
    "https://numpy.org/doc/stable/reference/random/generator.html#distributions"
   ]
  },
  {
   "cell_type": "markdown",
   "id": "1aa6b277",
   "metadata": {},
   "source": [
    "Uniform Distribution:\n",
    "\n",
    "Low = 0\n",
    "\n",
    "High = 10\n",
    "\n",
    "https://numpy.org/doc/stable/reference/random/generated/numpy.random.Generator.uniform.html#numpy.random.Generator.uniform"
   ]
  },
  {
   "cell_type": "code",
   "execution_count": 1,
   "id": "29d7aae7",
   "metadata": {},
   "outputs": [
    {
     "data": {
      "text/plain": [
       "(array([213., 180., 196., 195., 196., 214., 200., 180., 201., 192., 200.,\n",
       "        203., 205., 212., 194., 188., 201., 194., 202., 190., 216., 208.,\n",
       "        207., 180., 195., 199., 219., 196., 194., 207., 186., 197., 232.,\n",
       "        203., 193., 188., 210., 192., 211., 208., 192., 204., 238., 215.,\n",
       "        188., 224., 194., 170., 164., 214.]),\n",
       " array([1.03462163e-04, 2.00081350e-01, 4.00059238e-01, 6.00037125e-01,\n",
       "        8.00015013e-01, 9.99992901e-01, 1.19997079e+00, 1.39994868e+00,\n",
       "        1.59992656e+00, 1.79990445e+00, 1.99988234e+00, 2.19986023e+00,\n",
       "        2.39983812e+00, 2.59981600e+00, 2.79979389e+00, 2.99977178e+00,\n",
       "        3.19974967e+00, 3.39972755e+00, 3.59970544e+00, 3.79968333e+00,\n",
       "        3.99966122e+00, 4.19963910e+00, 4.39961699e+00, 4.59959488e+00,\n",
       "        4.79957277e+00, 4.99955066e+00, 5.19952854e+00, 5.39950643e+00,\n",
       "        5.59948432e+00, 5.79946221e+00, 5.99944009e+00, 6.19941798e+00,\n",
       "        6.39939587e+00, 6.59937376e+00, 6.79935165e+00, 6.99932953e+00,\n",
       "        7.19930742e+00, 7.39928531e+00, 7.59926320e+00, 7.79924108e+00,\n",
       "        7.99921897e+00, 8.19919686e+00, 8.39917475e+00, 8.59915264e+00,\n",
       "        8.79913052e+00, 8.99910841e+00, 9.19908630e+00, 9.39906419e+00,\n",
       "        9.59904207e+00, 9.79901996e+00, 9.99899785e+00]),\n",
       " <BarContainer object of 50 artists>)"
      ]
     },
     "execution_count": 1,
     "metadata": {},
     "output_type": "execute_result"
    },
    {
     "data": {
      "image/png": "[encoded data removed]",
      "text/plain": [
       "<Figure size 432x288 with 1 Axes>"
      ]
     },
     "metadata": {
      "needs_background": "light"
     },
     "output_type": "display_data"
    }
   ],
   "source": [
    "import matplotlib.pyplot as plt\n",
    "import numpy as np\n",
    "\n",
    "\n",
    "rng = np.random.default_rng()\n",
    "\n",
    "samples = rng.uniform(0, 10, 10000)\n",
    "\n",
    "fig, ax = plt.subplots()\n",
    "\n",
    "ax.hist(samples, bins=50)"
   ]
  },
  {
   "cell_type": "markdown",
   "id": "d297d6ea",
   "metadata": {},
   "source": [
    "Chisquare Distribution:\n",
    "\n",
    "Number of degrees of freedom = 4\n",
    "\n",
    "https://numpy.org/doc/stable/reference/random/generated/numpy.random.Generator.chisquare.html#numpy.random.Generator.chisquare"
   ]
  },
  {
   "cell_type": "code",
   "execution_count": 2,
   "id": "3815d423",
   "metadata": {},
   "outputs": [
    {
     "data": {
      "text/plain": [
       "(array([204., 521., 728., 747., 828., 768., 732., 723., 670., 559., 484.,\n",
       "        384., 406., 317., 308., 249., 222., 192., 155., 116., 113.,  96.,\n",
       "         80.,  64.,  60.,  52.,  41.,  43.,  19.,  27.,  17.,  12.,  11.,\n",
       "          8.,   9.,   3.,   8.,   5.,   5.,   3.,   2.,   0.,   1.,   2.,\n",
       "          1.,   2.,   1.,   1.,   0.,   1.]),\n",
       " array([9.15272088e-03, 4.44573357e-01, 8.79993994e-01, 1.31541463e+00,\n",
       "        1.75083527e+00, 2.18625590e+00, 2.62167654e+00, 3.05709718e+00,\n",
       "        3.49251781e+00, 3.92793845e+00, 4.36335909e+00, 4.79877972e+00,\n",
       "        5.23420036e+00, 5.66962100e+00, 6.10504163e+00, 6.54046227e+00,\n",
       "        6.97588291e+00, 7.41130354e+00, 7.84672418e+00, 8.28214482e+00,\n",
       "        8.71756545e+00, 9.15298609e+00, 9.58840673e+00, 1.00238274e+01,\n",
       "        1.04592480e+01, 1.08946686e+01, 1.13300893e+01, 1.17655099e+01,\n",
       "        1.22009305e+01, 1.26363512e+01, 1.30717718e+01, 1.35071925e+01,\n",
       "        1.39426131e+01, 1.43780337e+01, 1.48134544e+01, 1.52488750e+01,\n",
       "        1.56842956e+01, 1.61197163e+01, 1.65551369e+01, 1.69905575e+01,\n",
       "        1.74259782e+01, 1.78613988e+01, 1.82968195e+01, 1.87322401e+01,\n",
       "        1.91676607e+01, 1.96030814e+01, 2.00385020e+01, 2.04739226e+01,\n",
       "        2.09093433e+01, 2.13447639e+01, 2.17801845e+01]),\n",
       " <BarContainer object of 50 artists>)"
      ]
     },
     "execution_count": 2,
     "metadata": {},
     "output_type": "execute_result"
    },
    {
     "data": {
      "image/png": "[encoded data removed]",
      "text/plain": [
       "<Figure size 432x288 with 1 Axes>"
      ]
     },
     "metadata": {
      "needs_background": "light"
     },
     "output_type": "display_data"
    }
   ],
   "source": [
    "rng = np.random.default_rng()\n",
    "\n",
    "samples = rng.chisquare(4, 10000)\n",
    "\n",
    "fig, ax = plt.subplots()\n",
    "\n",
    "ax.hist(samples, bins=50)"
   ]
  },
  {
   "cell_type": "markdown",
   "id": "8483fcdb",
   "metadata": {},
   "source": [
    "Beta Distribution:\n",
    "\n",
    "Alpha = 0.5\n",
    "\n",
    "Beta = 0.5\n",
    "\n",
    "https://numpy.org/doc/stable/reference/random/generated/numpy.random.Generator.beta.html#numpy.random.Generator.beta"
   ]
  },
  {
   "cell_type": "code",
   "execution_count": 3,
   "id": "cff31f91",
   "metadata": {},
   "outputs": [
    {
     "data": {
      "text/plain": [
       "(array([1119.,  496.,  380.,  294.,  312.,  276.,  236.,  251.,  231.,\n",
       "         229.,  185.,  217.,  232.,  190.,  230.,  221.,  215.,  230.,\n",
       "         217.,  214.,  245.,  222.,  255.,  250.,  306.,  289.,  347.,\n",
       "         388.,  523., 1200.]),\n",
       " array([3.48645587e-08, 3.33333670e-02, 6.66666992e-02, 1.00000031e-01,\n",
       "        1.33333363e-01, 1.66666696e-01, 2.00000028e-01, 2.33333360e-01,\n",
       "        2.66666692e-01, 3.00000024e-01, 3.33333356e-01, 3.66666689e-01,\n",
       "        4.00000021e-01, 4.33333353e-01, 4.66666685e-01, 5.00000017e-01,\n",
       "        5.33333349e-01, 5.66666681e-01, 6.00000014e-01, 6.33333346e-01,\n",
       "        6.66666678e-01, 7.00000010e-01, 7.33333342e-01, 7.66666674e-01,\n",
       "        8.00000006e-01, 8.33333339e-01, 8.66666671e-01, 9.00000003e-01,\n",
       "        9.33333335e-01, 9.66666667e-01, 9.99999999e-01]),\n",
       " <BarContainer object of 30 artists>)"
      ]
     },
     "execution_count": 3,
     "metadata": {},
     "output_type": "execute_result"
    },
    {
     "data": {
      "image/png": "[encoded data removed]",
      "text/plain": [
       "<Figure size 432x288 with 1 Axes>"
      ]
     },
     "metadata": {
      "needs_background": "light"
     },
     "output_type": "display_data"
    }
   ],
   "source": [
    "rng = np.random.default_rng()\n",
    "\n",
    "samples = rng.beta(0.5, 0.5, 10000)\n",
    "\n",
    "fig, ax = plt.subplots()\n",
    "\n",
    "ax.hist(samples, bins=30)"
   ]
  }
 ],
 "metadata": {
  "kernelspec": {
   "display_name": "Python 3 (ipykernel)",
   "language": "python",
   "name": "python3"
  },
  "language_info": {
   "codemirror_mode": {
    "name": "ipython",
    "version": 3
   },
   "file_extension": ".py",
   "mimetype": "text/x-python",
   "name": "python",
   "nbconvert_exporter": "python",
   "pygments_lexer": "ipython3",
   "version": "3.9.7"
  }
 },
 "nbformat": 4,
 "nbformat_minor": 5
}
