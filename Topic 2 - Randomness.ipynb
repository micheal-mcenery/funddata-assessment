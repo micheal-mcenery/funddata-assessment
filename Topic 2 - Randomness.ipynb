{
 "cells": [
  {
   "cell_type": "markdown",
   "id": "287e9d1f",
   "metadata": {},
   "source": [
    "<h1 style=\"font-size:3rem;color:rgb(0, 91, 94);text-align:center;\">Topic 2 - Randomness</h1>\n",
    "<hr style=\\\"border-top: 1px solid rgb(0, 91, 94);\\\" />"
   ]
  },
  {
   "cell_type": "markdown",
   "id": "511c391e",
   "metadata": {},
   "source": [
    "<h2 style=\"color:rgb(0, 91, 94)\">Exercise 1</h2>\n",
    "<hr style=\\\"border-top: 1px solid rgb(0, 91, 94);\\\" />"
   ]
  },
  {
   "cell_type": "markdown",
   "id": "2ffa3c69",
   "metadata": {},
   "source": [
    "It is somewhat interesting that (5 * 4 * 3 * 2 * 1) perfectly divides (10 * 9 * 8 * 7 * 6) - there's no remainder.\n",
    "\n",
    "If we only wanted exactly four heads as opposed to five, the equivalent calculation would be (10 * 9 * 8 * 7) / (4 * 3 * 2 * 1).\n",
    "\n",
    "Does that evenly divide too? What is the formula in general?\n",
    "\n",
    "Does it always come out as a positive whole number?"
   ]
  },
  {
   "cell_type": "code",
   "execution_count": 7,
   "id": "74db1235",
   "metadata": {
    "scrolled": true
   },
   "outputs": [
    {
     "data": {
      "text/plain": [
       "210.0"
      ]
     },
     "execution_count": 7,
     "metadata": {},
     "output_type": "execute_result"
    }
   ],
   "source": [
    "(10*9*8*7) / (4*3*2*1)"
   ]
  },
  {
   "cell_type": "markdown",
   "id": "651ef63e",
   "metadata": {},
   "source": [
    "Does (10 * 9 * 8 * 7) / (4 * 3 * 2 * 1) divide evenly? \n",
    "\n",
    "Yes; (10*9*8*7) / (4*3*2*1) = 210"
   ]
  },
  {
   "cell_type": "markdown",
   "id": "10bdd23b",
   "metadata": {},
   "source": [
    "What is the formula in general? \n",
    "\n",
    "The formula in general is:\n",
    "Divide the result of multiplying the all possible positions of heads (based on the number of heads you want) in a single 10 coin flip by the result of multiplying the divisions that will need to be done to account for combinations counted more than once.\n",
    "\n",
    "For example if you wanted to count the unique positions of an outcome of just 2 head from the 10 coin flips:\n",
    "\n",
    "(10*9) / (2*1)\n",
    "10, to account for the first position of the heads.\n",
    "9, to account for the second position of the heads.\n",
    "2, to account for the combinations counted twice.\n",
    "1, to make the example look more appealing."
   ]
  },
  {
   "cell_type": "markdown",
   "id": "ff55cbb4",
   "metadata": {},
   "source": [
    "Does it always come out as a positive whole number?\n",
    "\n",
    "Yes, provided there is at least 1 heads in a set of 10 coin flips.\n",
    "\n",
    "*note for 10 heads there is only 1 permutation."
   ]
  },
  {
   "cell_type": "code",
   "execution_count": 12,
   "id": "2497ebc4",
   "metadata": {},
   "outputs": [
    {
     "name": "stdout",
     "output_type": "stream",
     "text": [
      "The number of unique positions for 9 heads = 10.0\n",
      "The number of unique positions for 8 heads = 45.0\n",
      "The number of unique positions for 7 heads = 120.0\n",
      "The number of unique positions for 6 heads = 210.0\n",
      "The number of unique positions for 5 heads = 252.0\n",
      "The number of unique positions for 4 heads = 210.0\n",
      "The number of unique positions for 3 heads = 120.0\n",
      "The number of unique positions for 2 heads = 45.0\n",
      "The number of unique positions for 1 heads = 10.0\n"
     ]
    }
   ],
   "source": [
    "count = 9\n",
    "nine_heads = (10*9*8*7*6*5*4*3*2)/(9*8*7*6*5*4*3*2*1)\n",
    "eight_heads = (10*9*8*7*6*5*4*3)/(8*7*6*5*4*3*2*1)\n",
    "seven_heads = (10*9*8*7*6*5*4)/(7*6*5*4*3*2*1)\n",
    "six_heads = (10*9*8*7*6*5)/(6*5*4*3*2*1)\n",
    "five_heads = (10*9*8*7*6)/(5*4*3*2*1)\n",
    "four_heads = (10*9*8*7)/(4*3*2*1)\n",
    "three_heads = (10*9*8)/(3*2*1)\n",
    "two_heads = (10*9)/(2*1)\n",
    "one_heads = 10.0\n",
    "\n",
    "calculations = [nine_heads, eight_heads, seven_heads, six_heads, five_heads, four_heads, three_heads, two_heads, one_heads]\n",
    "\n",
    "for i in calculations:\n",
    "    print(f'The number of unique positions for {count} heads = {i}')\n",
    "    count += -1"
   ]
  },
  {
   "cell_type": "markdown",
   "id": "b01cd607",
   "metadata": {},
   "source": [
    "<h2 style=\"color:rgb(0, 91, 94)\">Exercise 2</h2>\n",
    "<hr style=\\\"border-top: 1px solid rgb(0, 91, 94);\\\" />"
   ]
  },
  {
   "cell_type": "markdown",
   "id": "9947069a",
   "metadata": {},
   "source": [
    "Note that there are the same number of ways to get 4 tails as there to get 4 heads. Explain why this is."
   ]
  },
  {
   "cell_type": "markdown",
   "id": "6a6b1c97",
   "metadata": {},
   "source": []
  },
  {
   "cell_type": "markdown",
   "id": "fbe4cec7",
   "metadata": {},
   "source": [
    "<h2 style=\"color:rgb(0, 91, 94)\">Exercise 3</h2>\n",
    "<hr style=\\\"border-top: 1px solid rgb(0, 91, 94);\\\" />"
   ]
  },
  {
   "cell_type": "markdown",
   "id": "2e929344",
   "metadata": {},
   "source": [
    "Plot bar charts or histograms of any three different distributions listed at the following link:\n",
    "\n",
    "https://numpy.org/doc/stable/reference/random/generator.html#distributions"
   ]
  },
  {
   "cell_type": "markdown",
   "id": "1aa6b277",
   "metadata": {},
   "source": []
  }
 ],
 "metadata": {
  "kernelspec": {
   "display_name": "Python 3 (ipykernel)",
   "language": "python",
   "name": "python3"
  },
  "language_info": {
   "codemirror_mode": {
    "name": "ipython",
    "version": 3
   },
   "file_extension": ".py",
   "mimetype": "text/x-python",
   "name": "python",
   "nbconvert_exporter": "python",
   "pygments_lexer": "ipython3",
   "version": "3.9.7"
  }
 },
 "nbformat": 4,
 "nbformat_minor": 5
}
